{
 "cells": [
  {
   "cell_type": "markdown",
   "metadata": {},
   "source": [
    "# Final project"
   ]
  },
  {
   "cell_type": "code",
   "execution_count": 1,
   "metadata": {},
   "outputs": [],
   "source": [
    "#导入所需包\n",
    "import csv\n",
    "import pandas\n",
    "import numpy as np\n",
    "import matplotlib.pyplot as plt\n",
    "from sklearn.model_selection import KFold, cross_val_score, train_test_split\n",
    "from sklearn.linear_model import LinearRegression, Lasso, Ridge\n",
    "from sklearn.metrics import r2_score, mean_squared_error\n",
    "from sklearn.tree import DecisionTreeRegressor\n",
    "from sklearn.ensemble import RandomForestRegressor, ExtraTreesRegressor, GradientBoostingRegressor"
   ]
  },
  {
   "cell_type": "code",
   "execution_count": 2,
   "metadata": {},
   "outputs": [
    {
     "name": "stderr",
     "output_type": "stream",
     "text": [
      "/Users/winton/anaconda3/lib/python3.7/site-packages/pandas/core/generic.py:5434: SettingWithCopyWarning: \n",
      "A value is trying to be set on a copy of a slice from a DataFrame\n",
      "\n",
      "See the caveats in the documentation: http://pandas.pydata.org/pandas-docs/stable/indexing.html#indexing-view-versus-copy\n",
      "  self._update_inplace(new_data)\n"
     ]
    }
   ],
   "source": [
    "#导入数据并进行特征选择\n",
    "# Document: kc_house_data\n",
    "df = pandas.read_csv('Original Data/kc_house_data.csv')\n",
    "# Document: melb_data\n",
    "#df = pandas.read_csv('Original Data/melb_data.csv')\n",
    "\n",
    "# Document: kc_house_data\n",
    "feature = df[['bedrooms','bathrooms','sqft_living','sqft_lot','floors',\n",
    "              'view','condition', 'grade', 'sqft_above', 'sqft_basement', 'yr_built', 'lat', 'long']]\n",
    "# Document: melb_data\n",
    "#feature = df[['Rooms','Bedroom2','Bathroom','Distance','Landsize','BuildingArea','YearBuilt', 'Car', 'Lattitude', 'Longtitude']]\n",
    "feature.fillna(feature.mean(), inplace=True)\n",
    "\n",
    "# Document: kc_house_data\n",
    "price = df[['price']]\n",
    "# Document: melb_data\n",
    "#price = df[['Price']]\n",
    "price.fillna(price.mean(), inplace=True)"
   ]
  },
  {
   "cell_type": "code",
   "execution_count": 3,
   "metadata": {},
   "outputs": [],
   "source": [
    "#本次项目主要分为以下几个部分：\n",
    "# (1)数据分析可视化部分\n",
    "# (2)数据预处理部分\n",
    "# (3)模型训练和预测\n",
    "# (4)结果分析\n",
    "# (5)总结"
   ]
  },
  {
   "cell_type": "code",
   "execution_count": 4,
   "metadata": {},
   "outputs": [],
   "source": [
    "#1.数据分析可视化部分"
   ]
  },
  {
   "cell_type": "code",
   "execution_count": 5,
   "metadata": {},
   "outputs": [
    {
     "name": "stdout",
     "output_type": "stream",
     "text": [
      "Statistics for Boston housing dataset:price    75000.0\n",
      "dtype: float64\n",
      "\n",
      "min_price: price    75000.0\n",
      "dtype: float64\n",
      "max_price: price    7700000.0\n",
      "dtype: float64\n",
      "mean_price :price    540088.141767\n",
      "dtype: float64\n",
      "median_price:450000.0\n",
      "std_price: price    367118.703181\n",
      "dtype: float64\n"
     ]
    }
   ],
   "source": [
    "#查看相关数据\n",
    "min_price = np.min(price)\n",
    "max_price = np.max(price)\n",
    "mean_price = np.mean(price)\n",
    "median_price = np.median(price)\n",
    "std_price = np.std(price)\n",
    "print (f\"Statistics for Boston housing dataset:{min_price}\\n\")\n",
    "print (f\"min_price: {min_price}\")\n",
    "print (f\"max_price: {max_price}\")\n",
    "print (f\"mean_price :{mean_price}\")\n",
    "print (f\"median_price:{median_price}\")\n",
    "print (f\"std_price: {std_price}\")"
   ]
  },
  {
   "cell_type": "code",
   "execution_count": 6,
   "metadata": {},
   "outputs": [
    {
     "name": "stdout",
     "output_type": "stream",
     "text": [
      "1146\n",
      "264\n"
     ]
    }
   ],
   "source": [
    "#2.数据预处理部分\n",
    "def detect_outliers(df,n,features):\n",
    "\n",
    "    outlier_indices = []\n",
    "\n",
    "    for col in features:\n",
    "        Q1 = np.percentile(df[col], 25)\n",
    "        Q3 = np.percentile(df[col], 75)\n",
    "        IQR = Q3 - Q1\n",
    "        outlier_step = 1.5 * IQR\n",
    "        outlier_list_col = df[(df[col] < Q1 - outlier_step) | (df[col] > Q3 + outlier_step)].index\n",
    "\n",
    "        # multiple_outliers = list( k for k, v in outlier_indices.items() if v > n)\n",
    "        outlier_indices.extend(outlier_list_col)\n",
    "        x = np.array(outlier_list_col)\n",
    "        print(len(x))\n",
    "    return outlier_list_col\n",
    "Outliers_to_drop = detect_outliers(df, 2, ['price'])\n",
    "df = df.drop(Outliers_to_drop, axis=0).reset_index(drop=True)\n",
    "Outliers_to_drop = detect_outliers(df, 2, ['price'])\n"
   ]
  },
  {
   "cell_type": "code",
   "execution_count": 7,
   "metadata": {},
   "outputs": [],
   "source": [
    "#3.模型训练和预测\n",
    "\n",
    "X = np.array(feature)\n",
    "y = np.array(price)\n",
    "X_train, X_test, y_train, y_test = train_test_split(X, y, test_size=0.30, train_size=0.70, shuffle=True)"
   ]
  },
  {
   "cell_type": "code",
   "execution_count": 8,
   "metadata": {},
   "outputs": [],
   "source": [
    "# 备用代码\n",
    "# model = LinearRegression()\n",
    "# model.fit(X_train,y_train)\n",
    "\n",
    "# yhat_1 = model.predict(X_test)\n",
    "# score_1 = r2_score(y_test, yhat_1)\n",
    "# print('Model score is ', score_1)\n",
    "# print ('The mean squared error is: ', mean_squared_error(y_test, yhat_1))\n"
   ]
  },
  {
   "cell_type": "code",
   "execution_count": 9,
   "metadata": {},
   "outputs": [
    {
     "name": "stdout",
     "output_type": "stream",
     "text": [
      "R2:  0.6965422541449432\n",
      "r2_score =  [0.7201807  0.69123638 0.70017506 0.68212367 0.68686404]\n",
      "r2_score_average =  0.6961159681051651\n"
     ]
    },
    {
     "data": {
      "image/png": "[encoded data removed]",
      "text/plain": [
       "<Figure size 432x288 with 1 Axes>"
      ]
     },
     "metadata": {
      "needs_background": "light"
     },
     "output_type": "display_data"
    }
   ],
   "source": [
    "#模型一：线性回归模型\n",
    "\n",
    "LinearRegression_model = LinearRegression()\n",
    "LinearRegression_model.fit(X_train, y_train)\n",
    "\n",
    "yhat = LinearRegression_model.predict(X_test)\n",
    "R2 = 1 - np.mean((y_test-yhat)**2)/(np.std(y_test)**2)\n",
    "print(\"R2: \", R2)\n",
    "\n",
    "kf = KFold(n_splits=5, shuffle=True)\n",
    "score_ndarray = cross_val_score(LinearRegression_model, X_test, y_test.ravel(), cv=kf)\n",
    "\n",
    "print('r2_score = ', score_ndarray)\n",
    "print('r2_score_average = ', score_ndarray.mean())\n",
    "\n",
    "#画图\n",
    "#plt.scatter(np.arange(1, 6), score_ndarray)\n",
    "plt.xlabel('Number of predict')\n",
    "plt.ylabel('Pred acc')\n",
    "\n",
    "#ymin = np.min(y_test)\n",
    "#ymax = np.max(y_test)\n",
    "plt.plot(np.arange(1, 6), score_ndarray, \"o-\")\n",
    "plt.grid()\n",
    "plt.show()"
   ]
  },
  {
   "cell_type": "code",
   "execution_count": 10,
   "metadata": {},
   "outputs": [
    {
     "name": "stdout",
     "output_type": "stream",
     "text": [
      "R2:  -1.0395818587726269\n",
      "r2_score =  [0.63020231 0.70401286 0.65862171 0.66687351 0.6563936 ]\n",
      "r2_score_average =  0.6632207981132409\n"
     ]
    }
   ],
   "source": [
    "#模型二：决策树回归模型\n",
    "#使用决策树回归模型做回归预测，并使用交叉验证查看模型得分。\n",
    "#调用sklearn.tree库的DecisionTreeRegressor方法实例化模型对象。\n",
    "#调用sklearn.model_selection库的KFold方法实例化交叉验证对象。\n",
    "#调用sklearn.model_selection库的cross_val_score方法做交叉验证。\n",
    "\n",
    "DecisionTree_model = DecisionTreeRegressor()\n",
    "DecisionTree_model.fit(X_train, y_train)\n",
    "\n",
    "yhat = DecisionTree_model.predict(X_test)\n",
    "R2 = 1 - np.mean((y_test-yhat)**2)/(np.std(y_test)**2)\n",
    "print(\"R2: \", R2)\n",
    "\n",
    "kf = KFold(n_splits=5, shuffle=True)\n",
    "score_ndarray = cross_val_score(DecisionTree_model, X_test, y_test.ravel(), cv=kf)\n",
    "print('r2_score = ', score_ndarray)\n",
    "print('r2_score_average = ', score_ndarray.mean())"
   ]
  },
  {
   "cell_type": "code",
   "execution_count": 11,
   "metadata": {},
   "outputs": [
    {
     "name": "stderr",
     "output_type": "stream",
     "text": [
      "/Users/winton/anaconda3/lib/python3.7/site-packages/sklearn/ensemble/forest.py:246: FutureWarning: The default value of n_estimators will change from 10 in version 0.20 to 100 in 0.22.\n",
      "  \"10 in version 0.20 to 100 in 0.22.\", FutureWarning)\n",
      "/Users/winton/anaconda3/lib/python3.7/site-packages/ipykernel_launcher.py:8: DataConversionWarning: A column-vector y was passed when a 1d array was expected. Please change the shape of y to (n_samples,), for example using ravel().\n",
      "  \n"
     ]
    },
    {
     "name": "stdout",
     "output_type": "stream",
     "text": [
      "R2:  -0.8928217814111128\n",
      "r2_score =  [0.82183466 0.75740792 0.80510748 0.83419382 0.8141608 ]\n",
      "r2_score_average =  0.8065409359312599\n"
     ]
    }
   ],
   "source": [
    "#模型三：随机森林回归模型\n",
    "#使用随机森林回归模型做回归预测，并使用交叉验证查看模型得分。\n",
    "#调用sklearn.ensemble库的RandonForestRegressor方法实例化模型对象。\n",
    "#调用sklearn.model_selection库的KFold方法实例化交叉验证对象。\n",
    "#调用sklearn.model_selection库的cross_val_score方法做交叉验证。\n",
    "\n",
    "randomForest_model = RandomForestRegressor()\n",
    "randomForest_model.fit(X_train, y_train)\n",
    "\n",
    "yhat = randomForest_model.predict(X_test)\n",
    "R2 = 1 - np.mean((y_test-yhat)**2)/(np.std(y_test)**2)\n",
    "print(\"R2: \", R2)\n",
    "\n",
    "kf = KFold(n_splits=5, shuffle=True)\n",
    "score_ndarray = cross_val_score(randomForest_model, X_test, y_test.ravel(), cv=kf)\n",
    "print('r2_score = ', score_ndarray)\n",
    "print('r2_score_average = ', score_ndarray.mean())"
   ]
  },
  {
   "cell_type": "code",
   "execution_count": 12,
   "metadata": {},
   "outputs": [
    {
     "name": "stderr",
     "output_type": "stream",
     "text": [
      "/Users/winton/anaconda3/lib/python3.7/site-packages/sklearn/ensemble/forest.py:246: FutureWarning: The default value of n_estimators will change from 10 in version 0.20 to 100 in 0.22.\n",
      "  \"10 in version 0.20 to 100 in 0.22.\", FutureWarning)\n",
      "/Users/winton/anaconda3/lib/python3.7/site-packages/ipykernel_launcher.py:8: DataConversionWarning: A column-vector y was passed when a 1d array was expected. Please change the shape of y to (n_samples,), for example using ravel().\n",
      "  \n"
     ]
    },
    {
     "name": "stdout",
     "output_type": "stream",
     "text": [
      "R2:  -0.9018814702950189\n",
      "r2_score =  [0.76798781 0.77424988 0.81679423 0.82346257 0.8213801 ]\n",
      "r2_score_average =  0.8007749184752125\n"
     ]
    }
   ],
   "source": [
    "#模型四：极限🌲回归模型\n",
    "#使用极限🌲回归模型做回归预测，并使用交叉验证查看模型得分。\n",
    "#调用sklearn.ensemble库的ExtraTreesRegressor方法实例化模型对象。\n",
    "#调用sklearn.model_selection库的KFold方法实例化交叉验证对象。\n",
    "#调用sklearn.model_selection库的cross_val_score方法做交叉验证。\n",
    "\n",
    "ExtraTrees_model = ExtraTreesRegressor()\n",
    "ExtraTrees_model.fit(X_train, y_train)\n",
    "\n",
    "yhat = ExtraTrees_model.predict(X_test)\n",
    "R2 = 1 - np.mean((y_test-yhat)**2)/(np.std(y_test)**2)\n",
    "print(\"R2: \", R2)\n",
    "\n",
    "kf = KFold(n_splits=5, shuffle=True)\n",
    "score_ndarray = cross_val_score(ExtraTrees_model, X_test, y_test.ravel(), cv=kf)\n",
    "print('r2_score = ', score_ndarray)\n",
    "print('r2_score_average = ', score_ndarray.mean())"
   ]
  },
  {
   "cell_type": "code",
   "execution_count": 13,
   "metadata": {},
   "outputs": [
    {
     "name": "stderr",
     "output_type": "stream",
     "text": [
      "/Users/winton/anaconda3/lib/python3.7/site-packages/sklearn/utils/validation.py:761: DataConversionWarning: A column-vector y was passed when a 1d array was expected. Please change the shape of y to (n_samples, ), for example using ravel().\n",
      "  y = column_or_1d(y, warn=True)\n"
     ]
    },
    {
     "name": "stdout",
     "output_type": "stream",
     "text": [
      "[ 588921.84246401  334852.12196477 2317526.27094717 ...  329266.33804729\n",
      "  453532.14893795  512737.19126391]\n",
      "R2:  -0.8904690214388051\n",
      "r2_score =  [0.82440342 0.86572493 0.82705752 0.86686785 0.87038924]\n",
      "r2_score_average =  0.850888591402018\n"
     ]
    }
   ],
   "source": [
    "#模型五：梯度增强回归模型\n",
    "\n",
    "GradientBoostingRegressor_model = GradientBoostingRegressor(n_estimators = 400, min_samples_split = 2,\n",
    "         learning_rate = 0.1, loss = 'ls')\n",
    "GradientBoostingRegressor_model.fit(X_train, y_train)\n",
    "\n",
    "yhat = GradientBoostingRegressor_model.predict(X_test)\n",
    "print(yhat)\n",
    "R2 = 1 - np.mean((y_test-yhat)**2)/(np.std(y_test)**2)\n",
    "print(\"R2: \", R2)\n",
    "\n",
    "kf = KFold(n_splits=5, shuffle=True)\n",
    "score_ndarray = cross_val_score(GradientBoostingRegressor_model, X_test, y_test.ravel(), cv=kf)\n",
    "print('r2_score = ', score_ndarray)\n",
    "print('r2_score_average = ', score_ndarray.mean())\n",
    "\n",
    "# yhat_3 = model.predict(X_test)\n",
    "# score_3 = r2_score(y_test, yhat_3)\n",
    "# print('Model score is ', score_3)\n",
    "# print ('The mean squared error is: ', mean_squared_error(y_test, yhat_3))\n",
    "\n",
    "#画图\n",
    "# plt.scatter(y_test, yhat_3)\n",
    "# plt.xlabel('Actual lpsa')\n",
    "# plt.ylabel('Pred lpsa')\n",
    "\n",
    "# ymin = np.min(y_test)\n",
    "# ymax = np.max(y_test)\n",
    "# plt.plot([ymin, ymax], [ymin, ymax], 'r-', linewidth=3)\n",
    "# plt.grid()\n",
    "# plt.show()"
   ]
  },
  {
   "cell_type": "code",
   "execution_count": null,
   "metadata": {},
   "outputs": [],
   "source": []
  },
  {
   "cell_type": "code",
   "execution_count": null,
   "metadata": {},
   "outputs": [],
   "source": []
  },
  {
   "cell_type": "code",
   "execution_count": null,
   "metadata": {},
   "outputs": [],
   "source": []
  },
  {
   "cell_type": "code",
   "execution_count": null,
   "metadata": {},
   "outputs": [],
   "source": []
  },
  {
   "cell_type": "code",
   "execution_count": null,
   "metadata": {},
   "outputs": [],
   "source": []
  },
  {
   "cell_type": "code",
   "execution_count": null,
   "metadata": {},
   "outputs": [],
   "source": []
  },
  {
   "cell_type": "code",
   "execution_count": null,
   "metadata": {},
   "outputs": [],
   "source": []
  }
 ],
 "metadata": {
  "kernelspec": {
   "display_name": "Python 3",
   "language": "python",
   "name": "python3"
  },
  "language_info": {
   "codemirror_mode": {
    "name": "ipython",
    "version": 3
   },
   "file_extension": ".py",
   "mimetype": "text/x-python",
   "name": "python",
   "nbconvert_exporter": "python",
   "pygments_lexer": "ipython3",
   "version": "3.7.1"
  }
 },
 "nbformat": 4,
 "nbformat_minor": 2
}
