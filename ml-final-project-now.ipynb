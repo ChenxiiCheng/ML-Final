{
 "cells": [
  {
   "cell_type": "markdown",
   "metadata": {},
   "source": [
    "# Final project"
   ]
  },
  {
   "cell_type": "code",
   "execution_count": 36,
   "metadata": {},
   "outputs": [],
   "source": [
    "#本次项目主要分为以下几个部分：\n",
    "# (1)数据分析可视化部分\n",
    "# (2)数据预处理部分\n",
    "# (3)模型训练和预测\n",
    "# (4)结果分析\n",
    "# (5)总结"
   ]
  },
  {
   "cell_type": "code",
   "execution_count": 37,
   "metadata": {},
   "outputs": [],
   "source": [
    "#1.数据分析可视化部分"
   ]
  },
  {
   "cell_type": "code",
   "execution_count": 38,
   "metadata": {},
   "outputs": [],
   "source": [
    "#2.数据预处理部分"
   ]
  },
  {
   "cell_type": "code",
   "execution_count": 39,
   "metadata": {},
   "outputs": [],
   "source": [
    "#3.模型训练和预测"
   ]
  },
  {
   "cell_type": "code",
   "execution_count": 17,
   "metadata": {},
   "outputs": [],
   "source": [
    "#导入所需包\n",
    "import csv\n",
    "import pandas\n",
    "import numpy as np\n",
    "import matplotlib.pyplot as plt\n",
    "from sklearn.model_selection import train_test_split\n",
    "from sklearn.linear_model import LinearRegression, TheilSenRegressor\n",
    "from sklearn.linear_model import Lasso, Ridge\n",
    "from sklearn.metrics import r2_score\n",
    "from sklearn.metrics import mean_squared_error\n",
    "from sklearn.ensemble import RandomForestRegressor\n",
    "from sklearn.model_selection import KFold\n",
    "from sklearn.model_selection import cross_val_score\n",
    "from sklearn import ensemble\n",
    "from sklearn.ensemble import RandomForestRegressor\n",
    "from sklearn.model_selection import KFold\n",
    "from sklearn.model_selection import cross_val_score"
   ]
  },
  {
   "cell_type": "code",
   "execution_count": 18,
   "metadata": {},
   "outputs": [
    {
     "name": "stderr",
     "output_type": "stream",
     "text": [
      "/Applications/Anaconda/anaconda3/lib/python3.6/site-packages/pandas/core/generic.py:5430: SettingWithCopyWarning: \n",
      "A value is trying to be set on a copy of a slice from a DataFrame\n",
      "\n",
      "See the caveats in the documentation: http://pandas.pydata.org/pandas-docs/stable/indexing.html#indexing-view-versus-copy\n",
      "  self._update_inplace(new_data)\n"
     ]
    }
   ],
   "source": [
    "#导入数据并进行特征选择\n",
    "df = pandas.read_csv('melb_data.csv')\n",
    "areas = df[['Suburb']]\n",
    "\n",
    "feature = df[['Rooms','Bedroom2','Bathroom','Distance','Landsize','BuildingArea','YearBuilt']]\n",
    "feature.fillna(feature.mean(), inplace=True)\n",
    "\n",
    "price = df[['Price']]\n",
    "price.fillna(price.mean(), inplace=True)"
   ]
  },
  {
   "cell_type": "code",
   "execution_count": 19,
   "metadata": {},
   "outputs": [
    {
     "name": "stdout",
     "output_type": "stream",
     "text": [
      "Statistics for Boston housing dataset:Price    85000\n",
      "dtype: int64\n",
      "\n",
      "min_price: Price    85000\n",
      "dtype: int64\n",
      "max_price: Price    9000000\n",
      "dtype: int64\n",
      "mean_price :Price    1.056697e+06\n",
      "dtype: float64\n",
      "median_price:880000.0\n",
      "std_price: Price    641904.219156\n",
      "dtype: float64\n"
     ]
    }
   ],
   "source": [
    "#查看相关数据\n",
    "min_price = np.min(price)\n",
    "max_price = np.max(price)\n",
    "mean_price = np.mean(price)\n",
    "median_price = np.median(price)\n",
    "std_price = np.std(price)\n",
    "print (f\"Statistics for Boston housing dataset:{min_price}\\n\")\n",
    "print (f\"min_price: {min_price}\")\n",
    "print (f\"max_price: {max_price}\")\n",
    "print (f\"mean_price :{mean_price}\")\n",
    "print (f\"median_price:{median_price}\")\n",
    "print (f\"std_price: {std_price}\")"
   ]
  },
  {
   "cell_type": "code",
   "execution_count": 27,
   "metadata": {},
   "outputs": [
    {
     "name": "stdout",
     "output_type": "stream",
     "text": [
      "r2_score =  [-0.1386272   0.41619433  0.37201188  0.43478361  0.40909435]\n",
      "r2_score_average =  0.298691394402508\n"
     ]
    }
   ],
   "source": [
    "#模型一：线性回归模型\n",
    "X = np.array(feature)\n",
    "y = np.array(price)\n",
    "X_train, X_test, y_train, y_test = train_test_split(X, y, test_size=0.30, train_size=0.70, shuffle=True)\n",
    "\n",
    "LinearRegression_model = LinearRegression()\n",
    "kf = KFold(n_splits=5, shuffle=True)\n",
    "score_ndarray = cross_val_score(LinearRegression_model, X, y.ravel(), cv=kf)\n",
    "print('r2_score = ', score_ndarray)\n",
    "print('r2_score_average = ', score_ndarray.mean())\n",
    "\n",
    "# model = LinearRegression()\n",
    "# model.fit(X_train,y_train)\n",
    "\n",
    "# yhat_1 = model.predict(X_test)\n",
    "# score_1 = r2_score(y_test, yhat_1)\n",
    "# print('Model score is ', score_1)\n",
    "# print ('The mean squared error is: ', mean_squared_error(y_test, yhat_1))\n",
    "\n",
    "#画图\n",
    "# plt.scatter(y_test, yhat_1)\n",
    "# plt.xlabel('Actual lpsa')\n",
    "# plt.ylabel('Pred lpsa')\n",
    "\n",
    "# ymin = np.min(y_test)\n",
    "# ymax = np.max(y_test)\n",
    "# plt.plot([ymin, ymax], [ymin, ymax], 'r-', linewidth=3)\n",
    "# plt.grid()\n",
    "# plt.show()"
   ]
  },
  {
   "cell_type": "code",
   "execution_count": 28,
   "metadata": {},
   "outputs": [
    {
     "name": "stderr",
     "output_type": "stream",
     "text": [
      "/Applications/Anaconda/anaconda3/lib/python3.6/site-packages/sklearn/utils/validation.py:578: DataConversionWarning: A column-vector y was passed when a 1d array was expected. Please change the shape of y to (n_samples, ), for example using ravel().\n",
      "  y = column_or_1d(y, warn=True)\n"
     ]
    },
    {
     "name": "stdout",
     "output_type": "stream",
     "text": [
      "r2_score =  [ -0.16103216   0.30800007 -28.72767857  -5.47745226   0.06511355]\n",
      "r2_score_average =  -6.798609876350795\n"
     ]
    }
   ],
   "source": [
    "#模型二：广义线性回归模型\n",
    "X = np.array(feature)\n",
    "y = np.array(price)\n",
    "X_train, X_test, y_train, y_test = train_test_split(X, y, test_size=0.30, train_size=0.70, shuffle=True)\n",
    "\n",
    "model = TheilSenRegressor()\n",
    "model.fit(X_train, y_train)\n",
    "\n",
    "TheilSenRegressor_model = TheilSenRegressor()\n",
    "kf = KFold(n_splits=5, shuffle=True)\n",
    "score_ndarray = cross_val_score(TheilSenRegressor_model, X, y.ravel(), cv=kf)\n",
    "print('r2_score = ', score_ndarray)\n",
    "print('r2_score_average = ', score_ndarray.mean())\n",
    "\n",
    "# yhat_2 = model.predict(X_test)\n",
    "# score_2 = r2_score(y_test, yhat_2)\n",
    "# print('Model score is ', score_2)\n",
    "# print ('The mean squared error is: ', mean_squared_error(y_test, yhat_2))\n",
    "\n",
    "# #画图\n",
    "# plt.scatter(y_test, yhat_2)\n",
    "# plt.xlabel('Actual lpsa')\n",
    "# plt.ylabel('Pred lpsa')\n",
    "\n",
    "# ymin = np.min(y_test)\n",
    "# ymax = np.max(y_test)\n",
    "# plt.plot([ymin, ymax], [ymin, ymax], 'r-', linewidth=3)\n",
    "# plt.grid()\n",
    "# plt.show()"
   ]
  },
  {
   "cell_type": "code",
   "execution_count": null,
   "metadata": {},
   "outputs": [],
   "source": []
  },
  {
   "cell_type": "code",
   "execution_count": 29,
   "metadata": {},
   "outputs": [
    {
     "name": "stdout",
     "output_type": "stream",
     "text": [
      "r2_score =  [0.63296935 0.66707528 0.65113587 0.65838513 0.67176205]\n",
      "r2_score_average =  0.656265536941437\n"
     ]
    }
   ],
   "source": [
    "#模型三：梯度增强回归模型\n",
    "\n",
    "X = np.array(feature)\n",
    "y = np.array(price)\n",
    "X_train, X_test, y_train, y_test = train_test_split(X, y, test_size=0.30, train_size=0.70, shuffle=True)\n",
    "\n",
    "GradientBoostingRegressor_model = ensemble.GradientBoostingRegressor(n_estimators = 400, max_depth = 5, min_samples_split = 2,\n",
    "         learning_rate = 0.1, loss = 'ls')\n",
    "kf = KFold(n_splits=5, shuffle=True)\n",
    "score_ndarray = cross_val_score(GradientBoostingRegressor_model, X, y.ravel(), cv=kf)\n",
    "print('r2_score = ', score_ndarray)\n",
    "print('r2_score_average = ', score_ndarray.mean())\n",
    "\n",
    "\n",
    "# clf = ensemble.GradientBoostingRegressor(n_estimators = 400, max_depth = 5, min_samples_split = 2,\n",
    "#           learning_rate = 0.1, loss = 'ls')\n",
    "# clf.fit(X_train, y_train)\n",
    "\n",
    "# yhat_3 = model.predict(X_test)\n",
    "# score_3 = r2_score(y_test, yhat_3)\n",
    "# print('Model score is ', score_3)\n",
    "# print ('The mean squared error is: ', mean_squared_error(y_test, yhat_3))\n",
    "\n",
    "#画图\n",
    "# plt.scatter(y_test, yhat_3)\n",
    "# plt.xlabel('Actual lpsa')\n",
    "# plt.ylabel('Pred lpsa')\n",
    "\n",
    "# ymin = np.min(y_test)\n",
    "# ymax = np.max(y_test)\n",
    "# plt.plot([ymin, ymax], [ymin, ymax], 'r-', linewidth=3)\n",
    "# plt.grid()\n",
    "# plt.show()"
   ]
  },
  {
   "cell_type": "code",
   "execution_count": 30,
   "metadata": {},
   "outputs": [
    {
     "name": "stdout",
     "output_type": "stream",
     "text": [
      "r2_score =  [0.60624626 0.58709858 0.56772581 0.57729108 0.62554877]\n",
      "r2_score_average =  0.5927821021623952\n"
     ]
    }
   ],
   "source": [
    "#模型四：决策树回归模型\n",
    "#使用决策树回归模型做回归预测，并使用交叉验证查看模型得分。\n",
    "#调用sklearn.tree库的DecisionTreeRegressor方法实例化模型对象。\n",
    "#调用sklearn.model_selection库的KFold方法实例化交叉验证对象。\n",
    "#调用sklearn.model_selection库的cross_val_score方法做交叉验证。\n",
    "\n",
    "X = np.array(feature)\n",
    "y = np.array(price)\n",
    "X_train, X_test, y_train, y_test = train_test_split(X, y, test_size=0.30, train_size=0.70, shuffle=True)\n",
    "\n",
    "randomForest_model = RandomForestRegressor()\n",
    "kf = KFold(n_splits=5, shuffle=True)\n",
    "score_ndarray = cross_val_score(randomForest_model, X, y.ravel(), cv=kf)\n",
    "print('r2_score = ', score_ndarray)\n",
    "print('r2_score_average = ', score_ndarray.mean())"
   ]
  },
  {
   "cell_type": "code",
   "execution_count": 31,
   "metadata": {},
   "outputs": [
    {
     "name": "stdout",
     "output_type": "stream",
     "text": [
      "r2_score =  [0.60684752 0.62508313 0.60999997 0.54657531 0.59154752]\n",
      "r2_score_average =  0.5960106881994485\n"
     ]
    }
   ],
   "source": [
    "#模型五：随机森林回归模型\n",
    "#使用随机森林回归模型做回归预测，并使用交叉验证查看模型得分。\n",
    "#调用sklearn.ensemble库的RandonForestRegressor方法实例化模型对象。\n",
    "#调用sklearn.model_selection库的KFold方法实例化交叉验证对象。\n",
    "#调用sklearn.model_selection库的cross_val_score方法做交叉验证。\n",
    "\n",
    "\n",
    "randomForest_model = RandomForestRegressor()\n",
    "kf = KFold(n_splits=5, shuffle=True)\n",
    "score_ndarray = cross_val_score(randomForest_model, X, y.ravel(), cv=kf)\n",
    "print('r2_score = ', score_ndarray)\n",
    "print('r2_score_average = ', score_ndarray.mean())"
   ]
  },
  {
   "cell_type": "code",
   "execution_count": null,
   "metadata": {},
   "outputs": [],
   "source": []
  },
  {
   "cell_type": "code",
   "execution_count": null,
   "metadata": {},
   "outputs": [],
   "source": []
  },
  {
   "cell_type": "code",
   "execution_count": null,
   "metadata": {},
   "outputs": [],
   "source": []
  },
  {
   "cell_type": "code",
   "execution_count": null,
   "metadata": {},
   "outputs": [],
   "source": []
  },
  {
   "cell_type": "code",
   "execution_count": null,
   "metadata": {},
   "outputs": [],
   "source": []
  },
  {
   "cell_type": "code",
   "execution_count": null,
   "metadata": {},
   "outputs": [],
   "source": []
  },
  {
   "cell_type": "code",
   "execution_count": null,
   "metadata": {},
   "outputs": [],
   "source": []
  },
  {
   "cell_type": "code",
   "execution_count": null,
   "metadata": {},
   "outputs": [],
   "source": []
  }
 ],
 "metadata": {
  "kernelspec": {
   "display_name": "Python 3",
   "language": "python",
   "name": "python3"
  },
  "language_info": {
   "codemirror_mode": {
    "name": "ipython",
    "version": 3
   },
   "file_extension": ".py",
   "mimetype": "text/x-python",
   "name": "python",
   "nbconvert_exporter": "python",
   "pygments_lexer": "ipython3",
   "version": "3.6.5"
  }
 },
 "nbformat": 4,
 "nbformat_minor": 2
}
